{
 "cells": [
  {
   "cell_type": "markdown",
   "metadata": {},
   "source": [
    "# Projet Kaggle - Titanic\n",
    "\n",
    "https://www.kaggle.com/c/titanic/data\n",
    "\n",
    "14/03/2018\n",
    "\n",
    "Qui va vivre ?"
   ]
  },
  {
   "cell_type": "code",
   "execution_count": 1,
   "metadata": {},
   "outputs": [],
   "source": [
    "#import\n",
    "import numpy as np\n",
    "import pandas as pd\n",
    "import matplotlib.pyplot as plt\n",
    "\n",
    "from sklearn import svm, datasets\n",
    "\n",
    "\n",
    "from sklearn.model_selection import train_test_split\n",
    "from sklearn.metrics import confusion_matrix"
   ]
  },
  {
   "cell_type": "code",
   "execution_count": 2,
   "metadata": {},
   "outputs": [
    {
     "name": "stdout",
     "output_type": "stream",
     "text": [
      "Shape : \n",
      "(891, 12)\n"
     ]
    }
   ],
   "source": [
    "#importer les data du fichier train\n",
    "\n",
    "df_train_raw = pd.read_csv('train.csv')\n",
    "print('Shape : ')\n",
    "print(df_train_raw.shape)\n",
    "#df_train_raw.head(10)"
   ]
  },
  {
   "cell_type": "code",
   "execution_count": 47,
   "metadata": {
    "scrolled": true
   },
   "outputs": [
    {
     "name": "stdout",
     "output_type": "stream",
     "text": [
      "Shape : \n",
      "(418, 11)\n"
     ]
    }
   ],
   "source": [
    "#importer les data du fichier test\n",
    "\n",
    "df_test_raw = pd.read_csv('test.csv')\n",
    "print('Shape : ')\n",
    "print(df_test_raw.shape)\n",
    "#df_test_raw.head(10)"
   ]
  },
  {
   "cell_type": "markdown",
   "metadata": {},
   "source": [
    "## Nettoyage"
   ]
  },
  {
   "cell_type": "code",
   "execution_count": 48,
   "metadata": {},
   "outputs": [],
   "source": [
    "#Cleanage des data Train :\n",
    "\n",
    "def clean_df_train(df_train_clean) :\n",
    "\n",
    "    #df_train_clean['Sex'].replace('male', 0, inplace=True)\n",
    "    #df_train_clean['Sex'].replace('female', 1, inplace=True)\n",
    "    df_train_clean['Sex'].replace('', np.nan, inplace=True)\n",
    "    df_train_clean.dropna(subset=['Sex'], inplace=True)\n",
    "\n",
    "    df_train_clean['Age'].replace('', np.nan, inplace=True)\n",
    "    df_train_clean.dropna(subset=['Age'], inplace=True)\n",
    "\n",
    "    df_train_clean['Pclass'].replace(1, '1ere', inplace=True)\n",
    "    df_train_clean['Pclass'].replace(2, '2eme', inplace=True)\n",
    "    df_train_clean['Pclass'].replace(3, '3eme', inplace=True)\n",
    "    df_train_clean['Pclass'].replace('', np.nan, inplace=True)\n",
    "    df_train_clean.dropna(subset=['Pclass'], inplace=True)\n",
    "\n",
    "    df_train_clean['SibSp'].replace('', np.nan, inplace=True)\n",
    "    df_train_clean.dropna(subset=['SibSp'], inplace=True)\n",
    "\n",
    "    df_train_clean['Parch'].replace('', np.nan, inplace=True)\n",
    "    df_train_clean.dropna(subset=['Parch'], inplace=True)\n",
    "\n",
    "    df_train_clean['Fare'].replace('', np.nan, inplace=True)\n",
    "    df_train_clean.dropna(subset=['Fare'], inplace=True)\n",
    "\n",
    "    #Remplacer le C, Q, S par 0, 1, 2\n",
    "    #df_train_clean['Embarked'].replace('C', 0, inplace=True)\n",
    "    #df_train_clean['Embarked'].replace('Q', 1, inplace=True)\n",
    "    #df_train_clean['Embarked'].replace('S', 2, inplace=True)\n",
    "    df_train_clean['Embarked'].replace('', np.nan, inplace=True)\n",
    "    df_train_clean.dropna(subset=['Embarked'], inplace=True)\n",
    "    \n",
    "    return df_train_clean"
   ]
  },
  {
   "cell_type": "code",
   "execution_count": 49,
   "metadata": {},
   "outputs": [],
   "source": [
    "df_train_clean = clean_df_train(df_train_raw)\n"
   ]
  },
  {
   "cell_type": "code",
   "execution_count": 50,
   "metadata": {},
   "outputs": [],
   "source": [
    "# Travail sur la colonne Name\n",
    "\n",
    "import re as re\n",
    "import sys\n",
    "\n",
    "\n",
    "def recup_titre(name):   \n",
    "    \n",
    "    titre = name\n",
    "    \n",
    "    try:    \n",
    "        autre, titre = name.split(', ', maxsplit=1)\n",
    "        titre, autre  = titre.split('.', maxsplit=1)\n",
    "    except: \n",
    "        print(name)\n",
    "    \n",
    "    return titre\n",
    "\n",
    "\n",
    "#Ajout des colonnes par Titre\n",
    "def df_extract_titre(df_name):\n",
    "    df_tempo = df_name\n",
    "    df_name = df_name['Name'].map(lambda name : recup_titre(name) )    \n",
    "    df_name = df_name.str.get_dummies()\n",
    "    list_titre = df_name.columns\n",
    "    df_name = pd.concat([df_tempo, df_name], axis=1, join='inner')\n",
    "    return df_name, list_titre.tolist()\n",
    "\n",
    "#df_testo, list_titre_temp = df_extract_titre(df_train_clean)\n",
    "#list_titre_temp"
   ]
  },
  {
   "cell_type": "code",
   "execution_count": 51,
   "metadata": {},
   "outputs": [],
   "source": [
    "# version 1\n",
    "#list_col_One_Hot_Enco = ['Sex', 'Pclass', 'Embarked']\n",
    "# version 2\n",
    "list_col_One_Hot_Enco = [ 'Pclass', 'Embarked']"
   ]
  },
  {
   "cell_type": "code",
   "execution_count": 52,
   "metadata": {},
   "outputs": [
    {
     "data": {
      "text/plain": [
       "['1ere', '2eme', '3eme', 'C', 'Q', 'S']"
      ]
     },
     "execution_count": 52,
     "metadata": {},
     "output_type": "execute_result"
    }
   ],
   "source": [
    "#Travail sur les colonnes OneHot Encoding\n",
    "\n",
    "\n",
    "#Faire la liste des colonnes créées\n",
    "def df_extract_one_hot(df_sex, col):\n",
    "    df_tempo = df_sex\n",
    "    df_sex = df_sex[col]\n",
    "    df_sex = df_sex.str.get_dummies()\n",
    "    nom_col = df_sex.columns\n",
    "    df_sex = pd.concat([df_tempo, df_sex], axis=1, join='inner')\n",
    "    return df_sex, nom_col\n",
    "\n",
    "def df_extract_col_one_hot(df, listCol):\n",
    "    list_colo = []\n",
    "    for col in listCol :\n",
    "        df, noms_col = df_extract_one_hot(df, col)\n",
    "        list_colo = list_colo + noms_col.tolist()\n",
    "        #list_colo = noms_col.tolist()\n",
    "    return df, list_colo\n",
    "\n",
    "#df_testy, listcolo = df_extract_one_hot(df_train_clean, 'Sex') \n",
    "\n",
    "df_testy, listcolo = df_extract_col_one_hot(df_train_clean, list_col_One_Hot_Enco)\n",
    "listcolo"
   ]
  },
  {
   "cell_type": "code",
   "execution_count": 53,
   "metadata": {
    "scrolled": true
   },
   "outputs": [
    {
     "data": {
      "text/html": [
       "<div>\n",
       "<style scoped>\n",
       "    .dataframe tbody tr th:only-of-type {\n",
       "        vertical-align: middle;\n",
       "    }\n",
       "\n",
       "    .dataframe tbody tr th {\n",
       "        vertical-align: top;\n",
       "    }\n",
       "\n",
       "    .dataframe thead th {\n",
       "        text-align: right;\n",
       "    }\n",
       "</style>\n",
       "<table border=\"1\" class=\"dataframe\">\n",
       "  <thead>\n",
       "    <tr style=\"text-align: right;\">\n",
       "      <th></th>\n",
       "      <th>PassengerId</th>\n",
       "      <th>Survived</th>\n",
       "      <th>Pclass</th>\n",
       "      <th>Name</th>\n",
       "      <th>Sex</th>\n",
       "      <th>Age</th>\n",
       "      <th>SibSp</th>\n",
       "      <th>Parch</th>\n",
       "      <th>Ticket</th>\n",
       "      <th>Fare</th>\n",
       "      <th>Cabin</th>\n",
       "      <th>Embarked</th>\n",
       "    </tr>\n",
       "  </thead>\n",
       "  <tbody>\n",
       "    <tr>\n",
       "      <th>0</th>\n",
       "      <td>1</td>\n",
       "      <td>0</td>\n",
       "      <td>3eme</td>\n",
       "      <td>Braund, Mr. Owen Harris</td>\n",
       "      <td>male</td>\n",
       "      <td>22.0</td>\n",
       "      <td>1</td>\n",
       "      <td>0</td>\n",
       "      <td>A/5 21171</td>\n",
       "      <td>7.2500</td>\n",
       "      <td>NaN</td>\n",
       "      <td>S</td>\n",
       "    </tr>\n",
       "    <tr>\n",
       "      <th>1</th>\n",
       "      <td>2</td>\n",
       "      <td>1</td>\n",
       "      <td>1ere</td>\n",
       "      <td>Cumings, Mrs. John Bradley (Florence Briggs Th...</td>\n",
       "      <td>female</td>\n",
       "      <td>38.0</td>\n",
       "      <td>1</td>\n",
       "      <td>0</td>\n",
       "      <td>PC 17599</td>\n",
       "      <td>71.2833</td>\n",
       "      <td>C85</td>\n",
       "      <td>C</td>\n",
       "    </tr>\n",
       "    <tr>\n",
       "      <th>2</th>\n",
       "      <td>3</td>\n",
       "      <td>1</td>\n",
       "      <td>3eme</td>\n",
       "      <td>Heikkinen, Miss. Laina</td>\n",
       "      <td>female</td>\n",
       "      <td>26.0</td>\n",
       "      <td>0</td>\n",
       "      <td>0</td>\n",
       "      <td>STON/O2. 3101282</td>\n",
       "      <td>7.9250</td>\n",
       "      <td>NaN</td>\n",
       "      <td>S</td>\n",
       "    </tr>\n",
       "    <tr>\n",
       "      <th>3</th>\n",
       "      <td>4</td>\n",
       "      <td>1</td>\n",
       "      <td>1ere</td>\n",
       "      <td>Futrelle, Mrs. Jacques Heath (Lily May Peel)</td>\n",
       "      <td>female</td>\n",
       "      <td>35.0</td>\n",
       "      <td>1</td>\n",
       "      <td>0</td>\n",
       "      <td>113803</td>\n",
       "      <td>53.1000</td>\n",
       "      <td>C123</td>\n",
       "      <td>S</td>\n",
       "    </tr>\n",
       "    <tr>\n",
       "      <th>4</th>\n",
       "      <td>5</td>\n",
       "      <td>0</td>\n",
       "      <td>3eme</td>\n",
       "      <td>Allen, Mr. William Henry</td>\n",
       "      <td>male</td>\n",
       "      <td>35.0</td>\n",
       "      <td>0</td>\n",
       "      <td>0</td>\n",
       "      <td>373450</td>\n",
       "      <td>8.0500</td>\n",
       "      <td>NaN</td>\n",
       "      <td>S</td>\n",
       "    </tr>\n",
       "  </tbody>\n",
       "</table>\n",
       "</div>"
      ],
      "text/plain": [
       "   PassengerId  Survived Pclass  \\\n",
       "0            1         0   3eme   \n",
       "1            2         1   1ere   \n",
       "2            3         1   3eme   \n",
       "3            4         1   1ere   \n",
       "4            5         0   3eme   \n",
       "\n",
       "                                                Name     Sex   Age  SibSp  \\\n",
       "0                            Braund, Mr. Owen Harris    male  22.0      1   \n",
       "1  Cumings, Mrs. John Bradley (Florence Briggs Th...  female  38.0      1   \n",
       "2                             Heikkinen, Miss. Laina  female  26.0      0   \n",
       "3       Futrelle, Mrs. Jacques Heath (Lily May Peel)  female  35.0      1   \n",
       "4                           Allen, Mr. William Henry    male  35.0      0   \n",
       "\n",
       "   Parch            Ticket     Fare Cabin Embarked  \n",
       "0      0         A/5 21171   7.2500   NaN        S  \n",
       "1      0          PC 17599  71.2833   C85        C  \n",
       "2      0  STON/O2. 3101282   7.9250   NaN        S  \n",
       "3      0            113803  53.1000  C123        S  \n",
       "4      0            373450   8.0500   NaN        S  "
      ]
     },
     "execution_count": 53,
     "metadata": {},
     "output_type": "execute_result"
    }
   ],
   "source": [
    "# Clean df_train_raw + One Hot Encoding sur les autres col.\n",
    "\n",
    "df_train_clean = clean_df_train(df_train_raw)\n",
    "#df_train_clean = df_extract_titre(df_train_clean)\n",
    "#df_train_clean = df_extract_col_one_hot(df_train_clean, list_col_One_Hot_Enco)\n",
    "#df_train_clean = df_extract_col_one_hot(df_extract_titre(df_train_clean), list_col_One_Hot_Enco)\n",
    "\n",
    "#df_train_clean.columns\n",
    "df_train_clean.head(5)"
   ]
  },
  {
   "cell_type": "code",
   "execution_count": 55,
   "metadata": {},
   "outputs": [],
   "source": [
    "#Split le fichier train pour garder une partie de test\n",
    "\n",
    "#df_split_train, df_split_test = np.split(df_train_clean, [int(.8*len(df_train_clean))])\n",
    "df_split_train, df_split_test = train_test_split(df_train_clean, test_size=0.2)\n",
    "\n",
    "#df_train_clean = df_split_train\n"
   ]
  },
  {
   "cell_type": "code",
   "execution_count": 56,
   "metadata": {},
   "outputs": [],
   "source": [
    "#Appliquer le nettoyage sur le train\n",
    "df_train, liste_col_One_All = df_extract_col_one_hot(df_split_train, list_col_One_Hot_Enco)\n",
    "df_train, liste_titre_All = df_extract_titre(df_train)"
   ]
  },
  {
   "cell_type": "code",
   "execution_count": 57,
   "metadata": {},
   "outputs": [
    {
     "data": {
      "text/plain": [
       "['Age',\n",
       " 'SibSp',\n",
       " 'Parch',\n",
       " 'Fare',\n",
       " '1ere',\n",
       " '2eme',\n",
       " '3eme',\n",
       " 'C',\n",
       " 'Q',\n",
       " 'S',\n",
       " 'Capt',\n",
       " 'Col',\n",
       " 'Don',\n",
       " 'Dr',\n",
       " 'Jonkheer',\n",
       " 'Lady',\n",
       " 'Major',\n",
       " 'Master',\n",
       " 'Miss',\n",
       " 'Mme',\n",
       " 'Mr',\n",
       " 'Mrs',\n",
       " 'Ms',\n",
       " 'Rev',\n",
       " 'Sir']"
      ]
     },
     "execution_count": 57,
     "metadata": {},
     "output_type": "execute_result"
    }
   ],
   "source": [
    "#Colonnes utilisées pour le calcul\n",
    "#list_col_train = list(['Pclass','Sex','Age','SibSp','Parch','Fare','Embarked'])\n",
    "list_col_train = list(['Age','SibSp','Parch','Fare'])\n",
    "\n",
    "#Ajoutons la liste des titres\n",
    "list_col_train = list_col_train + liste_col_One_All + liste_titre_All\n",
    "\n",
    "list_col_train"
   ]
  },
  {
   "cell_type": "markdown",
   "metadata": {},
   "source": [
    "## Training"
   ]
  },
  {
   "cell_type": "code",
   "execution_count": 58,
   "metadata": {
    "scrolled": true
   },
   "outputs": [
    {
     "data": {
      "text/html": [
       "<div>\n",
       "<style scoped>\n",
       "    .dataframe tbody tr th:only-of-type {\n",
       "        vertical-align: middle;\n",
       "    }\n",
       "\n",
       "    .dataframe tbody tr th {\n",
       "        vertical-align: top;\n",
       "    }\n",
       "\n",
       "    .dataframe thead th {\n",
       "        text-align: right;\n",
       "    }\n",
       "</style>\n",
       "<table border=\"1\" class=\"dataframe\">\n",
       "  <thead>\n",
       "    <tr style=\"text-align: right;\">\n",
       "      <th></th>\n",
       "      <th>PassengerId</th>\n",
       "      <th>Survived</th>\n",
       "      <th>Pclass</th>\n",
       "      <th>Name</th>\n",
       "      <th>Sex</th>\n",
       "      <th>Age</th>\n",
       "      <th>SibSp</th>\n",
       "      <th>Parch</th>\n",
       "      <th>Ticket</th>\n",
       "      <th>Fare</th>\n",
       "      <th>...</th>\n",
       "      <th>Lady</th>\n",
       "      <th>Major</th>\n",
       "      <th>Master</th>\n",
       "      <th>Miss</th>\n",
       "      <th>Mme</th>\n",
       "      <th>Mr</th>\n",
       "      <th>Mrs</th>\n",
       "      <th>Ms</th>\n",
       "      <th>Rev</th>\n",
       "      <th>Sir</th>\n",
       "    </tr>\n",
       "  </thead>\n",
       "  <tbody>\n",
       "    <tr>\n",
       "      <th>296</th>\n",
       "      <td>297</td>\n",
       "      <td>0</td>\n",
       "      <td>3eme</td>\n",
       "      <td>Hanna, Mr. Mansour</td>\n",
       "      <td>male</td>\n",
       "      <td>23.5</td>\n",
       "      <td>0</td>\n",
       "      <td>0</td>\n",
       "      <td>2693</td>\n",
       "      <td>7.2292</td>\n",
       "      <td>...</td>\n",
       "      <td>0</td>\n",
       "      <td>0</td>\n",
       "      <td>0</td>\n",
       "      <td>0</td>\n",
       "      <td>0</td>\n",
       "      <td>1</td>\n",
       "      <td>0</td>\n",
       "      <td>0</td>\n",
       "      <td>0</td>\n",
       "      <td>0</td>\n",
       "    </tr>\n",
       "    <tr>\n",
       "      <th>635</th>\n",
       "      <td>636</td>\n",
       "      <td>1</td>\n",
       "      <td>2eme</td>\n",
       "      <td>Davis, Miss. Mary</td>\n",
       "      <td>female</td>\n",
       "      <td>28.0</td>\n",
       "      <td>0</td>\n",
       "      <td>0</td>\n",
       "      <td>237668</td>\n",
       "      <td>13.0000</td>\n",
       "      <td>...</td>\n",
       "      <td>0</td>\n",
       "      <td>0</td>\n",
       "      <td>0</td>\n",
       "      <td>1</td>\n",
       "      <td>0</td>\n",
       "      <td>0</td>\n",
       "      <td>0</td>\n",
       "      <td>0</td>\n",
       "      <td>0</td>\n",
       "      <td>0</td>\n",
       "    </tr>\n",
       "    <tr>\n",
       "      <th>396</th>\n",
       "      <td>397</td>\n",
       "      <td>0</td>\n",
       "      <td>3eme</td>\n",
       "      <td>Olsson, Miss. Elina</td>\n",
       "      <td>female</td>\n",
       "      <td>31.0</td>\n",
       "      <td>0</td>\n",
       "      <td>0</td>\n",
       "      <td>350407</td>\n",
       "      <td>7.8542</td>\n",
       "      <td>...</td>\n",
       "      <td>0</td>\n",
       "      <td>0</td>\n",
       "      <td>0</td>\n",
       "      <td>1</td>\n",
       "      <td>0</td>\n",
       "      <td>0</td>\n",
       "      <td>0</td>\n",
       "      <td>0</td>\n",
       "      <td>0</td>\n",
       "      <td>0</td>\n",
       "    </tr>\n",
       "    <tr>\n",
       "      <th>787</th>\n",
       "      <td>788</td>\n",
       "      <td>0</td>\n",
       "      <td>3eme</td>\n",
       "      <td>Rice, Master. George Hugh</td>\n",
       "      <td>male</td>\n",
       "      <td>8.0</td>\n",
       "      <td>4</td>\n",
       "      <td>1</td>\n",
       "      <td>382652</td>\n",
       "      <td>29.1250</td>\n",
       "      <td>...</td>\n",
       "      <td>0</td>\n",
       "      <td>0</td>\n",
       "      <td>1</td>\n",
       "      <td>0</td>\n",
       "      <td>0</td>\n",
       "      <td>0</td>\n",
       "      <td>0</td>\n",
       "      <td>0</td>\n",
       "      <td>0</td>\n",
       "      <td>0</td>\n",
       "    </tr>\n",
       "  </tbody>\n",
       "</table>\n",
       "<p>4 rows × 33 columns</p>\n",
       "</div>"
      ],
      "text/plain": [
       "     PassengerId  Survived Pclass                       Name     Sex   Age  \\\n",
       "296          297         0   3eme         Hanna, Mr. Mansour    male  23.5   \n",
       "635          636         1   2eme          Davis, Miss. Mary  female  28.0   \n",
       "396          397         0   3eme        Olsson, Miss. Elina  female  31.0   \n",
       "787          788         0   3eme  Rice, Master. George Hugh    male   8.0   \n",
       "\n",
       "     SibSp  Parch  Ticket     Fare ...  Lady Major  Master  Miss  Mme  Mr  \\\n",
       "296      0      0    2693   7.2292 ...     0     0       0     0    0   1   \n",
       "635      0      0  237668  13.0000 ...     0     0       0     1    0   0   \n",
       "396      0      0  350407   7.8542 ...     0     0       0     1    0   0   \n",
       "787      4      1  382652  29.1250 ...     0     0       1     0    0   0   \n",
       "\n",
       "     Mrs  Ms  Rev  Sir  \n",
       "296    0   0    0    0  \n",
       "635    0   0    0    0  \n",
       "396    0   0    0    0  \n",
       "787    0   0    0    0  \n",
       "\n",
       "[4 rows x 33 columns]"
      ]
     },
     "execution_count": 58,
     "metadata": {},
     "output_type": "execute_result"
    }
   ],
   "source": [
    "df_train.head(4)"
   ]
  },
  {
   "cell_type": "code",
   "execution_count": 59,
   "metadata": {},
   "outputs": [
    {
     "name": "stdout",
     "output_type": "stream",
     "text": [
      "(569, 25)\n",
      "(569, 1)\n"
     ]
    }
   ],
   "source": [
    "#Extract des colonnes pour le calcul\n",
    "list_clean = df_train[list_col_train].values.tolist()\n",
    "tab_clean = np.array(list_clean)\n",
    "\n",
    "list_survived = df_train[['Survived']].values.tolist()\n",
    "tab_survived = np.array(list_survived)\n",
    "\n",
    "print(tab_clean.shape)\n",
    "print(tab_survived.shape)"
   ]
  },
  {
   "cell_type": "code",
   "execution_count": null,
   "metadata": {},
   "outputs": [],
   "source": [
    "#Logistical Reg\n",
    "from sklearn.linear_model import LogisticRegression\n",
    "\n",
    "logisticRegr_All = LogisticRegression()\n",
    "\n",
    "logisticRegr_All.fitit(tab_clean, tab_survived.ravel())"
   ]
  },
  {
   "cell_type": "code",
   "execution_count": 61,
   "metadata": {},
   "outputs": [],
   "source": [
    "df_train[list_col_train].to_csv('df_train - eb.csv')\n",
    "df_train[['Survived']].to_csv('df_train_surv - eb.csv')"
   ]
  },
  {
   "cell_type": "code",
   "execution_count": null,
   "metadata": {
    "scrolled": true
   },
   "outputs": [],
   "source": [
    "list_tab_coef = logisticRegr_All.coef_\n",
    "tab_coef = list_tab_coef[0]\n",
    "list_coef = []\n",
    "for i in tab_coef :\n",
    "    list_coef.append(i)\n",
    "    \n",
    "list_coef\n",
    "\n",
    "df_coef = pd.DataFrame(list_coef, columns=['Coef'], index = list_col_train)\n",
    "df_coef"
   ]
  },
  {
   "cell_type": "code",
   "execution_count": null,
   "metadata": {},
   "outputs": [],
   "source": [
    "df_coef.hist(column='Coef')"
   ]
  },
  {
   "cell_type": "code",
   "execution_count": null,
   "metadata": {},
   "outputs": [],
   "source": [
    "#Score sur le même préset\n",
    "logisticRegr_All.score(tab_clean, tab_survived.ravel())"
   ]
  },
  {
   "cell_type": "code",
   "execution_count": null,
   "metadata": {},
   "outputs": [],
   "source": [
    "df_train['Pclass'].hist()"
   ]
  },
  {
   "cell_type": "markdown",
   "metadata": {},
   "source": [
    "## Validation"
   ]
  },
  {
   "cell_type": "code",
   "execution_count": null,
   "metadata": {},
   "outputs": [],
   "source": [
    "def df_extract_titre_test(df, list_titre):\n",
    "    df_temp, list_temp = df_extract_titre(df)\n",
    "    \n",
    "    col_vide = [0] * df['Name'].count()  \n",
    "    \n",
    "    #Ajouter des colonnes vide selon les models\n",
    "    for i in list_titre :\n",
    "        \n",
    "        try :             \n",
    "            df_temp[[i]]            \n",
    "        except : \n",
    "            df_temp[i] = col_vide\n",
    "        \n",
    "           \n",
    "    return df_temp\n",
    "\n",
    "#df_extract_titre_test(df_test, liste_titre_All)"
   ]
  },
  {
   "cell_type": "code",
   "execution_count": null,
   "metadata": {},
   "outputs": [],
   "source": [
    "#Appliquer le nettoyage sur le split_test\n",
    "df_test, liste_col_One_TEST = df_extract_col_one_hot(df_split_test, list_col_One_Hot_Enco)\n",
    "df_test = df_extract_titre_test(df_test, liste_titre_All)"
   ]
  },
  {
   "cell_type": "code",
   "execution_count": null,
   "metadata": {},
   "outputs": [],
   "source": [
    "#Score sur le split de train\n",
    "\n",
    "list_split_test = df_test[list_col_train].values.tolist()\n",
    "tab_split_test = np.array(list_split_test)\n",
    "\n",
    "list_split_test_survived = df_test[['Survived']].values.tolist()\n",
    "tab_split_test_survived = np.array(list_split_test_survived)\n",
    "\n",
    "\n",
    "logisticRegr_All.score(tab_split_test, tab_split_test_survived.ravel())"
   ]
  },
  {
   "cell_type": "markdown",
   "metadata": {},
   "source": [
    "## Test"
   ]
  },
  {
   "cell_type": "code",
   "execution_count": null,
   "metadata": {},
   "outputs": [],
   "source": [
    "#Nettoyage des data Test CSV\n",
    "\n",
    "def clean_df_test(df_test_clean, df_split_train) :\n",
    "\n",
    "    #df_test_clean['Sex'].replace('male', 0, inplace=True)\n",
    "    #df_test_clean['Sex'].replace('female', 1, inplace=True)\n",
    "    #df_test_clean['Sex'].replace('', np.nan, inplace=True)\n",
    "    #df_test_clean['Sex'].replace(np.nan, df_split_train['Sex'].median(), inplace=True)\n",
    "    #df_test_clean.dropna(subset=['Sex'], inplace=True)\n",
    "\n",
    "    \n",
    "    #med = df_split_train['Age'].median()    \n",
    "    #print(med)\n",
    "    \n",
    "    df_test_clean['Age'].replace('', np.nan, inplace=True)  \n",
    "    df_test_clean['Age'].replace(np.nan, df_split_train['Age'].median(), inplace=True)\n",
    "    #df_test_clean.dropna(subset=['Age'], inplace=True)\n",
    "\n",
    "    df_test_clean['Pclass'].replace(1, '1ere', inplace=True)\n",
    "    df_test_clean['Pclass'].replace(2, '2eme', inplace=True)\n",
    "    df_test_clean['Pclass'].replace(3, '3eme', inplace=True)    \n",
    "    df_test_clean['Pclass'].replace('', np.nan, inplace=True)\n",
    "    #Au lieu de la médiane comme valeur, je mets '3eme' car selon l'histo du train, il y a plus de 3eme\n",
    "    df_test_clean['Pclass'].replace(np.nan, '3eme', inplace=True)\n",
    "    #df_test_clean['Pclass'].replace(np.nan, df_split_train['Pclass'].median(), inplace=True)\n",
    "    #df_test_clean.dropna(subset=['Pclass'], inplace=True)\n",
    "\n",
    "    df_test_clean['SibSp'].replace('', np.nan, inplace=True)\n",
    "    df_test_clean['SibSp'].replace(np.nan, df_split_train['SibSp'].median(), inplace=True)\n",
    "    #df_test_clean.dropna(subset=['SibSp'], inplace=True)\n",
    "\n",
    "    df_test_clean['Parch'].replace('', np.nan, inplace=True)\n",
    "    df_test_clean['Parch'].replace(np.nan, df_split_train['Parch'].median(), inplace=True)\n",
    "    df_test_clean.dropna(subset=['Parch'], inplace=True)\n",
    "\n",
    "    df_test_clean['Fare'].replace('', np.nan, inplace=True)\n",
    "    df_test_clean['Fare'].replace(np.nan, df_split_train['Fare'].median(), inplace=True)\n",
    "    #df_test_clean.dropna(subset=['Fare'], inplace=True)\n",
    "\n",
    "    #Remplacer le C, Q, S par 0, 1, 2\n",
    "    #df_test_clean['Embarked'].replace('C', 0, inplace=True)\n",
    "    #df_test_clean['Embarked'].replace('Q', 1, inplace=True)\n",
    "    #df_test_clean['Embarked'].replace('S', 2, inplace=True)\n",
    "    #df_test_clean['Embarked'].replace('', np.nan, inplace=True)\n",
    "    #df_test_clean['Embarked'].replace(np.nan, df_split_train['Embarked'].median(), inplace=True)\n",
    "    #df_test_clean.dropna(subset=['Embarked'], inplace=True)\n",
    "    \n",
    "    return df_test_clean"
   ]
  },
  {
   "cell_type": "code",
   "execution_count": null,
   "metadata": {},
   "outputs": [],
   "source": [
    "#Appliquer le nettoyage sur le split_test\n",
    "df_test_CSV = clean_df_test(df_test_raw, df_train)\n",
    "df_test_CSV, liste_col_One_TEST = df_extract_col_one_hot(df_test_CSV, list_col_One_Hot_Enco)\n",
    "df_test_CSV = df_extract_titre_test(df_test_CSV, liste_titre_All)\n",
    "\n",
    "df_test_CSV"
   ]
  },
  {
   "cell_type": "code",
   "execution_count": null,
   "metadata": {},
   "outputs": [],
   "source": [
    "#Récupérer la colonne Passenger ID\n",
    "list_test_CSV_passengerID = df_test_CSV[['PassengerId']].values.tolist()\n",
    "tab_test_CSV_passengerID = np.array(list_test_CSV_passengerID)\n",
    "\n",
    "tab_test_CSV_passengerID.size"
   ]
  },
  {
   "cell_type": "code",
   "execution_count": null,
   "metadata": {},
   "outputs": [],
   "source": [
    "# Extraction des colonnes utilisées par le train\n",
    "list_test= df_test_CSV[list_col_train].values.tolist()\n",
    "tab_test = np.array(list_test)\n",
    "\n",
    "#list_test"
   ]
  },
  {
   "cell_type": "code",
   "execution_count": null,
   "metadata": {},
   "outputs": [],
   "source": [
    "#prédiction\n",
    "tab_predict = logisticRegr_All.predict(tab_test)\n",
    "\n",
    "\n",
    "#Compter les survivants\n",
    "cond = tab_predict == 1\n",
    "\n",
    "print(tab_predict[cond].sum())\n",
    "print(tab_predict.shape)"
   ]
  },
  {
   "cell_type": "code",
   "execution_count": null,
   "metadata": {},
   "outputs": [],
   "source": [
    "df_result = pd.DataFrame(tab_test_CSV_passengerID.tolist(), columns=['PassengerId'] )\n",
    "df_result['Survived'] = tab_predict\n",
    "df_result.head(5)"
   ]
  },
  {
   "cell_type": "code",
   "execution_count": null,
   "metadata": {},
   "outputs": [],
   "source": [
    "#exporter vers file\n",
    "df_result.to_csv('result v2.csv', index = False, header=True)"
   ]
  },
  {
   "cell_type": "markdown",
   "metadata": {},
   "source": [
    "# Scores Kaggles\n",
    "    0.76555 : ['Age','SibSp','Parch','Fare'] + Name + list_col_One_Hot_Enco = ['Sex', 'Pclass', 'Embarked'] \n",
    "    0.77033 : ['Age','SibSp','Parch','Fare'] + Name + list_col_One_Hot_Enco = ['Pclass', 'Embarked']"
   ]
  }
 ],
 "metadata": {
  "kernelspec": {
   "display_name": "Python 3",
   "language": "python",
   "name": "python3"
  },
  "language_info": {
   "codemirror_mode": {
    "name": "ipython",
    "version": 3
   },
   "file_extension": ".py",
   "mimetype": "text/x-python",
   "name": "python",
   "nbconvert_exporter": "python",
   "pygments_lexer": "ipython3",
   "version": "3.6.4"
  }
 },
 "nbformat": 4,
 "nbformat_minor": 2
}
